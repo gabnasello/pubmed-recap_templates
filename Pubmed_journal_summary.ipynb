{
 "cells": [
  {
   "cell_type": "code",
   "execution_count": 3,
   "id": "44d1fe25-51d1-43be-8ecb-eb6650d21efc",
   "metadata": {
    "vscode": {
     "languageId": "r"
    }
   },
   "outputs": [],
   "source": [
    "library(rentrez)\n",
    "library(XML)\n",
    "library(biorecap)"
   ]
  },
  {
   "cell_type": "code",
   "execution_count": 62,
   "id": "d189afdc-8012-4ef3-a0ac-1082cd7cb736",
   "metadata": {
    "vscode": {
     "languageId": "r"
    }
   },
   "outputs": [],
   "source": [
    "# Function to retrieve papers via PubMed API from multiple journals with exclusive date ranges\n",
    "get_recent_papers <- function(journal_names, years_back = NULL, months_back = NULL, weeks_back = NULL) {\n",
    "  \n",
    "  # Check that only one of years_back, months_back, or weeks_back is provided\n",
    "  if (sum(!is.null(c(years_back, months_back, weeks_back))) != 1) {\n",
    "    stop(\"Error: You must specify exactly one of 'years_back', 'months_back', or 'weeks_back'.\")\n",
    "  }\n",
    "  \n",
    "  # Calculate the start date based on which argument is provided\n",
    "  end_date <- Sys.Date()\n",
    "  \n",
    "  if (!is.null(years_back)) {\n",
    "    start_date <- format(as.Date(end_date) - years_back * 365, \"%Y/%m/%d\")\n",
    "  } else if (!is.null(months_back)) {\n",
    "    start_date <- format(as.Date(end_date) - months_back * 30, \"%Y/%m/%d\")\n",
    "  } else if (!is.null(weeks_back)) {\n",
    "    start_date <- format(as.Date(end_date) - weeks_back * 7, \"%Y/%m/%d\")\n",
    "  }\n",
    "  \n",
    "  end_date <- format(end_date, \"%Y/%m/%d\")\n",
    "  \n",
    "  # Initialize an empty list to store results for each journal\n",
    "  all_papers <- list()\n",
    "\n",
    "  # Loop over each journal and retrieve papers\n",
    "  for (journal_name in journal_names) {\n",
    "    # Create the search term for the journal and date range\n",
    "    search_term <- paste0(journal_name, \"[Journal] AND (\", start_date, \"[Date - Publication] : \", end_date, \"[Date - Publication])\")\n",
    "    \n",
    "    # Search PubMed for the relevant articles\n",
    "    search_results <- entrez_search(db = \"pubmed\", term = search_term, retmax = 100)\n",
    "    \n",
    "    # Check if any papers were found\n",
    "    if (length(search_results$ids) == 0) {\n",
    "      print(paste(\"No papers found for\", journal_name))\n",
    "      next\n",
    "    }\n",
    "    \n",
    "    paper_ids <- search_results$ids\n",
    "    \n",
    "    # Function to fetch the abstract for each paper\n",
    "    fetch_abstract <- function(paper_id) {\n",
    "      # Fetch the detailed paper data\n",
    "      paper_xml <- entrez_fetch(db = \"pubmed\", id = paper_id, rettype = \"xml\", parsed = TRUE)\n",
    "      # Extract the abstract from the XML\n",
    "      abstract <- xpathSApply(paper_xml, \"//AbstractText\", xmlValue)\n",
    "      # Return the abstract (collapsed into one string if there are multiple sections)\n",
    "      if (length(abstract) == 0) {\n",
    "        return(\"No abstract available\")\n",
    "      } else {\n",
    "        return(paste(abstract, collapse = \" \"))\n",
    "      }\n",
    "    }\n",
    "    \n",
    "    # Extract relevant fields: title, abstract, and DOI\n",
    "    paper_data <- lapply(paper_ids, function(paper_id) {\n",
    "      # Fetch summary for title and DOI\n",
    "      paper_summary <- entrez_summary(db = \"pubmed\", id = paper_id)\n",
    "      \n",
    "      fulljournalname <- paper_summary$fulljournalname\n",
    "      title <- paper_summary$title\n",
    "      \n",
    "      # Use elocationid to extract the DOI, cleaning it up if necessary\n",
    "      doi <- ifelse(is.null(paper_summary$elocationid), \"No DOI available\", gsub(\"doi: \", \"https://doi.org/\", paper_summary$elocationid))\n",
    "      \n",
    "      # Fetch the abstract\n",
    "      abstract <- fetch_abstract(paper_id)\n",
    "      \n",
    "      return(list(fulljournalname = fulljournalname, title = title, abstract = abstract, doi = doi))\n",
    "    })\n",
    "    \n",
    "    # Convert the list to a tibble for this journal\n",
    "    journal_papers <- tibble::tibble(\n",
    "      subject = sapply(paper_data, function(x) x$fulljournalname),\n",
    "      title = sapply(paper_data, function(x) x$title),\n",
    "      url = sapply(paper_data, function(x) x$doi),\n",
    "      abstract = sapply(paper_data, function(x) x$abstract)\n",
    "    )\n",
    "    \n",
    "    # Append this journal's results to the master list\n",
    "    all_papers[[journal_name]] <- journal_papers\n",
    "  }\n",
    "\n",
    "  # Combine all journal results into a single tibble\n",
    "  all_papers_tibble <- dplyr::bind_rows(all_papers)\n",
    "  \n",
    "  # Add attributes for start and end dates\n",
    "  attr(all_papers_tibble, \"start_date\") <- start_date\n",
    "  attr(all_papers_tibble, \"end_date\") <- end_date\n",
    "  \n",
    "  # Same output as the biorecap::get_preprints output\n",
    "  class(all_papers_tibble) <- c(\"preprints\", class(all_papers_tibble))\n",
    "                 \n",
    "  return(all_papers_tibble)\n",
    "}"
   ]
  },
  {
   "cell_type": "code",
   "execution_count": 63,
   "id": "a8037fbf-6e9a-465e-8f9d-7dd6c00604c8",
   "metadata": {
    "vscode": {
     "languageId": "r"
    }
   },
   "outputs": [],
   "source": [
    "# Retrieve papers from multiple journals within the specified amount of time\n",
    "recent_papers <- get_recent_papers(c(\"Nature Biomedical Engineering\", \"Nature Immunology\" , \"Science Immunology\"), months_back=1)"
   ]
  },
  {
   "cell_type": "code",
   "execution_count": null,
   "id": "162d16b4-db0a-4603-b608-e1aff9425889",
   "metadata": {
    "scrolled": true,
    "vscode": {
     "languageId": "r"
    }
   },
   "outputs": [],
   "source": [
    "model_llm <- \"llama3.2\"\n",
    "\n",
    "paper_summaries <- recent_papers |> \n",
    "                   add_prompt() |> \n",
    "                   add_summary(model=model_llm)\n",
    "paper_summaries[paper_summaries$abstract == 'No abstract available', 'summary'] = 'No abstract available'\n",
    "\n",
    "# Add a new attribute\n",
    "attr(paper_summaries, 'model') <- model_llm\n",
    "\n",
    "paper_summaries"
   ]
  },
  {
   "cell_type": "code",
   "execution_count": null,
   "id": "1a8788c4-89d4-4301-8b7a-0b32b5a4abcf",
   "metadata": {
    "scrolled": true,
    "vscode": {
     "languageId": "r"
    }
   },
   "outputs": [],
   "source": [
    "skeleton <- 'templates/skeleton.Rmd'\n",
    "output_dir <- normalizePath(\".\")\n",
    "output_file <- paste0(\"pubmed-report-\", format(Sys.time(), \"%Y-%m-%d-%H%M%S\"), \".html\")\n",
    "output_csv <- file.path(output_dir, sub(\"\\\\.html$\", \".csv\", output_file))\n",
    "if (tools::file_ext(output_file) != \"html\") stop(\"Output file must have an .html extension.\") #nocov\n",
    "rmarkdown::render(input=skeleton,\n",
    "                  output_file=output_file,\n",
    "                  output_dir=output_dir,\n",
    "                  params=list(paper_summaries=paper_summaries,\n",
    "                              output_csv=output_csv)\n",
    "                 )"
   ]
  }
 ],
 "metadata": {
  "kernelspec": {
   "display_name": "R",
   "language": "R",
   "name": "ir"
  },
  "language_info": {
   "codemirror_mode": "r",
   "file_extension": ".r",
   "mimetype": "text/x-r-source",
   "name": "R",
   "pygments_lexer": "r",
   "version": "4.3.3"
  }
 },
 "nbformat": 4,
 "nbformat_minor": 5
}
